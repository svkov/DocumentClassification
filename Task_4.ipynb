{
 "cells": [
  {
   "cell_type": "markdown",
   "metadata": {},
   "source": [
    "# Линейная регрессия"
   ]
  },
  {
   "cell_type": "code",
   "execution_count": 1,
   "metadata": {},
   "outputs": [],
   "source": [
    "import numpy as np\n",
    "import matplotlib.pyplot as plt\n",
    "import pandas as pd\n",
    "from scipy.optimize import minimize"
   ]
  },
  {
   "cell_type": "markdown",
   "metadata": {},
   "source": [
    "Данные содержатся в файле `data/lin_reg.txt`. Прочитать их можно следующим так:"
   ]
  },
  {
   "cell_type": "code",
   "execution_count": 2,
   "metadata": {},
   "outputs": [],
   "source": [
    "df = pd.read_csv('data/lin_reg.txt', header=None)\n",
    "mapper = {\n",
    "    0: 'x1',\n",
    "    1: 'x2',\n",
    "    2: 'x3',\n",
    "    3: 'x4',\n",
    "    4: 'y',\n",
    "}\n",
    "df.rename(columns=mapper, inplace=True)\n",
    "\n",
    "X = df[['x1', 'x2', 'x3', 'x4']].values\n",
    "Y = df[['y']].values"
   ]
  },
  {
   "cell_type": "markdown",
   "metadata": {},
   "source": [
    "При выполнении заданий **нельзя** пользоваться `scikit-learn` и т.п., только `NumPy`/`JAX`/`TF`/`PyTorch` и `matplotlib`/`seaborn`/`plotly`/etc.\n",
    "\n",
    "1. Нарисуйте график среднеквадратичной ошибки в зависимости от параметра регуляризации $\\alpha$, используя полные данные для обучения и для тестирования. \n",
    "2. Подготовьте исходные данные для 5 fold CV.\n",
    "3. С помощью CV найдите оптимальное значение $\\alpha$ на какой-нибудь сетке значений.\n",
    "4. Постройте валидационную кривую. \n",
    "5. Постройте кривую обучения."
   ]
  },
  {
   "cell_type": "code",
   "execution_count": 3,
   "metadata": {},
   "outputs": [],
   "source": [
    "def forward_pass(w, X):\n",
    "    b = w[0] * np.ones((X.shape[0], 1))\n",
    "    w = w[1:]\n",
    "    assert w.shape[0] == X.shape[1]\n",
    "    assert b.shape[0] == X.shape[0]\n",
    "    return  (X @ w).reshape(-1, 1) + b.reshape(-1, 1)"
   ]
  },
  {
   "cell_type": "code",
   "execution_count": 4,
   "metadata": {},
   "outputs": [],
   "source": [
    "def J(w, X, Y, a=0):\n",
    "    return np.sum(np.power(forward_pass(w, X) - Y, 2)) / len(Y) + a * (np.sum(np.power(w, 2)))"
   ]
  },
  {
   "cell_type": "code",
   "execution_count": 5,
   "metadata": {},
   "outputs": [],
   "source": [
    "def train_test_split(X, train_size=0.8):\n",
    "    n = X.shape[0]\n",
    "    pivot = int(n * train_size)\n",
    "    return X[:pivot], X[pivot:]"
   ]
  },
  {
   "cell_type": "code",
   "execution_count": 6,
   "metadata": {},
   "outputs": [],
   "source": [
    "def train_test_split_df(df):\n",
    "    train, test = train_test_split(df)\n",
    "    X_train = train[['x1', 'x2', 'x3', 'x4']].values\n",
    "    X_test = test[['x1', 'x2', 'x3', 'x4']].values\n",
    "    Y_train = train[['y']].values\n",
    "    Y_test = test[['y']].values\n",
    "    return X_train, X_test, Y_train, Y_test"
   ]
  },
  {
   "cell_type": "code",
   "execution_count": 7,
   "metadata": {},
   "outputs": [],
   "source": [
    "def fit_linear(X, Y, a=0, plot=False):\n",
    "    history = {\n",
    "        'w': [],\n",
    "        'error': [],\n",
    "    }\n",
    "    \n",
    "    def callback(w):\n",
    "        history['w'].append(w)\n",
    "        history['error'].append(J(w, X, Y))\n",
    "    optimal_w = minimize(J, x0=np.zeros((X.shape[1] + 1, 1)), args=(X, Y, a), callback=callback, method='BFGS').x\n",
    "    \n",
    "    if plot:\n",
    "        plot_learning_curve(history)\n",
    "    return optimal_w, history"
   ]
  },
  {
   "cell_type": "markdown",
   "metadata": {},
   "source": [
    "# 1. Зависимость среднеквадратичной ошибки от $a$\n",
    "\n",
    "Перебираем значение параметра в промежутке $a \\in[0, 1]$"
   ]
  },
  {
   "cell_type": "code",
   "execution_count": 8,
   "metadata": {},
   "outputs": [
    {
     "data": {
      "text/plain": [
       "[<matplotlib.lines.Line2D at 0x2b63c7af6d0>]"
      ]
     },
     "execution_count": 8,
     "metadata": {},
     "output_type": "execute_result"
    },
    {
     "data": {
      "image/png": "[encoded data removed]",
      "text/plain": [
       "<Figure size 432x288 with 1 Axes>"
      ]
     },
     "metadata": {
      "needs_background": "light"
     },
     "output_type": "display_data"
    }
   ],
   "source": [
    "errors = []\n",
    "for a in np.linspace(0, 1, 100):\n",
    "    w_optimal, _ = fit_linear(X, Y, a=a)\n",
    "    error = J(w_optimal, X, Y, a=a)\n",
    "    errors.append(error)\n",
    "    \n",
    "plt.plot(errors)"
   ]
  },
  {
   "cell_type": "markdown",
   "metadata": {},
   "source": [
    "# 2 Кросс-валидация"
   ]
  },
  {
   "cell_type": "code",
   "execution_count": 9,
   "metadata": {},
   "outputs": [],
   "source": [
    "def cross_validation(df, cv=5, a=0):\n",
    "    shuffled_df = df.sample(frac=1)\n",
    "    n = len(shuffled_df)\n",
    "    pivot_step = n // cv\n",
    "    \n",
    "    history = {\n",
    "        'train_error': [],\n",
    "        'test_error': []\n",
    "    }\n",
    "    for pivot in range(0, n, pivot_step):\n",
    "        fold = shuffled_df[pivot:pivot + pivot_step]\n",
    "        X_train, X_test, Y_train, Y_test = train_test_split_df(fold)\n",
    "        w_optimal, _ = fit_linear(X_train, Y_train, a=a)\n",
    "        history['train_error'].append(J(w_optimal, X_train, Y_train))\n",
    "        history['test_error'].append(J(w_optimal, X_test, Y_test))\n",
    "    return history"
   ]
  },
  {
   "cell_type": "code",
   "execution_count": 10,
   "metadata": {},
   "outputs": [],
   "source": [
    "def mean_cv_history(history):\n",
    "    return np.array(history['test_error']).mean()"
   ]
  },
  {
   "cell_type": "markdown",
   "metadata": {},
   "source": [
    "# 3 Оптимальное $a$"
   ]
  },
  {
   "cell_type": "code",
   "execution_count": 11,
   "metadata": {},
   "outputs": [
    {
     "name": "stdout",
     "output_type": "stream",
     "text": [
      "Оптимальное a=0.06896551724137931, MSE при этом 87.77506949099809\n"
     ]
    }
   ],
   "source": [
    "mean_errors = {}\n",
    "for a in np.linspace(0, 1, 30):\n",
    "    history_cv = cross_validation(df, a=a)  \n",
    "    mean_errors[a] = mean_cv_history(history_cv)\n",
    "min_val = sorted(mean_errors.items(), key=lambda x: x[1])[0]\n",
    "optimal_a = min_val[0]\n",
    "print(f'Оптимальное a={min_val[0]}, MSE при этом {min_val[1]}')"
   ]
  },
  {
   "cell_type": "markdown",
   "metadata": {},
   "source": [
    "# 4, 5 Валидационная кривая и кривая обучения\n",
    "\n",
    "Кривые близки, переобучения нет"
   ]
  },
  {
   "cell_type": "code",
   "execution_count": 12,
   "metadata": {},
   "outputs": [],
   "source": [
    "def plot_learning_curve(history, X_test, Y_test, optimal_a):\n",
    "    val_score = []\n",
    "    for w in history['w']:\n",
    "        val_score.append(J(w, X_test, Y_test, a=optimal_a))\n",
    "    \n",
    "    plt.figure()\n",
    "    \n",
    "    plt.plot(history['error'])\n",
    "    plt.plot(val_score)\n",
    "    \n",
    "    plt.legend(['train', 'test'])\n",
    "    plt.title('Learning curve')"
   ]
  },
  {
   "cell_type": "code",
   "execution_count": 13,
   "metadata": {},
   "outputs": [
    {
     "data": {
      "image/png": "[encoded data removed]",
      "text/plain": [
       "<Figure size 432x288 with 1 Axes>"
      ]
     },
     "metadata": {
      "needs_background": "light"
     },
     "output_type": "display_data"
    }
   ],
   "source": [
    "X_train, X_test, Y_train, Y_test = train_test_split_df(df)\n",
    "w, history = fit_linear(X_train, Y_train, a=optimal_a)\n",
    "plot_learning_curve(history, X_test, Y_test, optimal_a)"
   ]
  }
 ],
 "metadata": {
  "kernelspec": {
   "display_name": "Python 3",
   "language": "python",
   "name": "python3"
  },
  "language_info": {
   "codemirror_mode": {
    "name": "ipython",
    "version": 3
   },
   "file_extension": ".py",
   "mimetype": "text/x-python",
   "name": "python",
   "nbconvert_exporter": "python",
   "pygments_lexer": "ipython3",
   "version": "3.8.3"
  }
 },
 "nbformat": 4,
 "nbformat_minor": 4
}
