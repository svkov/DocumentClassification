{
 "cells": [
  {
   "cell_type": "code",
   "execution_count": 2,
   "metadata": {},
   "outputs": [
    {
     "ename": "ModuleNotFoundError",
     "evalue": "No module named 'seaborn'",
     "output_type": "error",
     "traceback": [
      "\u001b[1;31m---------------------------------------------------------------------------\u001b[0m",
      "\u001b[1;31mModuleNotFoundError\u001b[0m                       Traceback (most recent call last)",
      "\u001b[1;32m<ipython-input-2-a0b0cf8b0053>\u001b[0m in \u001b[0;36m<module>\u001b[1;34m()\u001b[0m\n\u001b[0;32m      2\u001b[0m \u001b[1;32mimport\u001b[0m \u001b[0mscipy\u001b[0m \u001b[1;32mas\u001b[0m \u001b[0msp\u001b[0m\u001b[1;33m\u001b[0m\u001b[1;33m\u001b[0m\u001b[0m\n\u001b[0;32m      3\u001b[0m \u001b[1;32mimport\u001b[0m \u001b[0mmatplotlib\u001b[0m\u001b[1;33m.\u001b[0m\u001b[0mpyplot\u001b[0m \u001b[1;32mas\u001b[0m \u001b[0mplt\u001b[0m\u001b[1;33m\u001b[0m\u001b[1;33m\u001b[0m\u001b[0m\n\u001b[1;32m----> 4\u001b[1;33m \u001b[1;32mimport\u001b[0m \u001b[0mseaborn\u001b[0m \u001b[1;32mas\u001b[0m \u001b[0msns\u001b[0m\u001b[1;33m\u001b[0m\u001b[1;33m\u001b[0m\u001b[0m\n\u001b[0m\u001b[0;32m      5\u001b[0m \u001b[1;33m\u001b[0m\u001b[0m\n\u001b[0;32m      6\u001b[0m \u001b[0mget_ipython\u001b[0m\u001b[1;33m(\u001b[0m\u001b[1;33m)\u001b[0m\u001b[1;33m.\u001b[0m\u001b[0mmagic\u001b[0m\u001b[1;33m(\u001b[0m\u001b[1;34m'matplotlib inline'\u001b[0m\u001b[1;33m)\u001b[0m\u001b[1;33m\u001b[0m\u001b[1;33m\u001b[0m\u001b[0m\n",
      "\u001b[1;31mModuleNotFoundError\u001b[0m: No module named 'seaborn'"
     ]
    }
   ],
   "source": [
    "import numpy as np\n",
    "import scipy as sp\n",
    "import matplotlib.pyplot as plt\n",
    "import seaborn as sns\n",
    "\n",
    "%matplotlib inline"
   ]
  },
  {
   "cell_type": "markdown",
   "metadata": {},
   "source": [
    "# 1. Работа с массивами NumPy"
   ]
  },
  {
   "cell_type": "markdown",
   "metadata": {},
   "source": [
    "**N. Все упражнения ниже нужно делать без использования циклов Python**\n",
    "\n",
    "**1.** Cоздать вектор\n",
    "\n",
    "$$(2, \\frac{2^2}{2}, \\ldots, \\frac{2^{20}}{20})$$\n",
    "\n",
    "Можно использовать функции [np.arange()](http://docs.scipy.org/doc/numpy/reference/generated/numpy.arange.html), [np.ones()](http://docs.scipy.org/doc/numpy/reference/generated/numpy.ones.html)"
   ]
  },
  {
   "cell_type": "code",
   "execution_count": 13,
   "metadata": {},
   "outputs": [
    {
     "name": "stdout",
     "output_type": "stream",
     "text": [
      "[2.00000000e+00 2.00000000e+00 2.66666667e+00 4.00000000e+00\n",
      " 6.40000000e+00 1.06666667e+01 1.82857143e+01 3.20000000e+01\n",
      " 5.68888889e+01 1.02400000e+02 1.86181818e+02 3.41333333e+02\n",
      " 6.30153846e+02 1.17028571e+03 2.18453333e+03 4.09600000e+03\n",
      " 7.71011765e+03 1.45635556e+04 2.75941053e+04 5.24288000e+04]\n"
     ]
    }
   ],
   "source": [
    "## your code\n",
    "n = 21\n",
    "a = np.arange(1, n)\n",
    "b = np.ones_like(a) * 2\n",
    "two_powers = np.power(b, a)\n",
    "answer = two_powers / a\n",
    "print(answer)"
   ]
  },
  {
   "cell_type": "markdown",
   "metadata": {},
   "source": [
    "**2.** Посчитать:\n",
    "\n",
    "$$\\sum\\limits_{i=0}^{5}{0.1^{3i}0.2^{4i}}$$\n"
   ]
  },
  {
   "cell_type": "code",
   "execution_count": 21,
   "metadata": {},
   "outputs": [],
   "source": [
    "# naive solution to check\n",
    "test = 0\n",
    "for i in range(6):\n",
    "    test += 0.1 ** (3 * i) * 0.2 ** (4 * i)\n",
    "\n",
    "## your code\n",
    "n = 6\n",
    "a = np.arange(0, n)\n",
    "first = np.power(0.1, a * 3)\n",
    "second = np.power(0.2, a * 4)\n",
    "answer = first @ second\n",
    "\n",
    "assert answer == ans2"
   ]
  },
  {
   "cell_type": "markdown",
   "metadata": {},
   "source": [
    "**3.** Создать нулевую матрицe $8 \\times 8$, и заполнить её единицами в шахматном порядке."
   ]
  },
  {
   "cell_type": "code",
   "execution_count": 34,
   "metadata": {},
   "outputs": [
    {
     "data": {
      "text/plain": [
       "array([[1, 0, 1, 0, 1, 0, 1, 0],\n",
       "       [0, 1, 0, 1, 0, 1, 0, 1],\n",
       "       [1, 0, 1, 0, 1, 0, 1, 0],\n",
       "       [0, 1, 0, 1, 0, 1, 0, 1],\n",
       "       [1, 0, 1, 0, 1, 0, 1, 0],\n",
       "       [0, 1, 0, 1, 0, 1, 0, 1],\n",
       "       [1, 0, 1, 0, 1, 0, 1, 0],\n",
       "       [0, 1, 0, 1, 0, 1, 0, 1]])"
      ]
     },
     "execution_count": 34,
     "metadata": {},
     "output_type": "execute_result"
    }
   ],
   "source": [
    "## your code\n",
    "n = 8\n",
    "a = np.zeros((n, n)).astype(np.int)\n",
    "a[::2, ::2] = 1\n",
    "a[::-2, ::-2] = 1\n",
    "a"
   ]
  },
  {
   "cell_type": "markdown",
   "metadata": {},
   "source": [
    "**4.** Есть 5 точек в декартовой системе координат (в виде матрицы $X$ размерностью $5 \\times 2$), сконвертируйте эти точки в полярную систему координат."
   ]
  },
  {
   "cell_type": "code",
   "execution_count": 3,
   "metadata": {},
   "outputs": [
    {
     "name": "stdout",
     "output_type": "stream",
     "text": [
      "[[0.37256748 0.25119487]\n",
      " [0.20432835 0.69628128]\n",
      " [0.42406363 0.48690861]\n",
      " [0.44261466 0.90720389]\n",
      " [0.91169517 0.57198278]]\n",
      "[[0.44933884 0.5932181 ]\n",
      " [0.72564295 1.2853534 ]\n",
      " [0.64568565 0.85427575]\n",
      " [1.00941896 1.11688449]\n",
      " [1.0762678  0.56031167]]\n"
     ]
    }
   ],
   "source": [
    "X = np.random.random((5, 2))\n",
    "\n",
    "rho = np.sqrt(X.T[1]**2 + X.T[0]**2)\n",
    "phi = np.arctan(X.T[1] / X.T[0])\n",
    "\n",
    "X_polar = np.array([rho, phi]).T\n",
    "print(X)\n",
    "print(X_polar)"
   ]
  },
  {
   "cell_type": "markdown",
   "metadata": {},
   "source": [
    "**5.** Найдите индексы максимального элемента в случайной матрице $10 \\times 10$.\n",
    "\n",
    "Cм. [np.argmax()](http://docs.scipy.org/doc/numpy/reference/generated/numpy.argmax.html)."
   ]
  },
  {
   "cell_type": "code",
   "execution_count": 105,
   "metadata": {},
   "outputs": [
    {
     "name": "stdout",
     "output_type": "stream",
     "text": [
      "[[10 85 95 92 67]\n",
      " [45  1 33 20  2]\n",
      " [69 36 87 30 27]\n",
      " [68 96 77 14 65]\n",
      " [91 86 90 84  7]]\n",
      "Индексы максимального элемента: (1, 3)\n"
     ]
    }
   ],
   "source": [
    "n = 5\n",
    "X = np.random.randint(1, 100, (n, n))\n",
    "\n",
    "## your code\n",
    "print(X)\n",
    "m = np.argmax(X)\n",
    "print(f'Индексы максимального элемента: ({m % n}, {m // n})')"
   ]
  },
  {
   "cell_type": "markdown",
   "metadata": {},
   "source": [
    "**6.** Есть 10 точек ($X$) и ещё одна ($y$). Найти в $X$ ближайшую к $y$ точку."
   ]
  },
  {
   "cell_type": "code",
   "execution_count": 5,
   "metadata": {},
   "outputs": [
    {
     "name": "stdout",
     "output_type": "stream",
     "text": [
      "Точка из X, наиболее близкая к y в смысле евклидового расстояния:  [[0.69353861 0.70475949]]\n",
      " y =  [[0.60759058 0.69388897]]\n"
     ]
    }
   ],
   "source": [
    "X = np.random.random((10, 2))\n",
    "Y = np.random.random((1, 2))\n",
    "\n",
    "#Евклидово расстояние\n",
    "distances = np.sqrt((X - Y).T[1]**2 + (X - Y).T[0]**2) \n",
    "index_euc = np.where(distances == np.min(distances))\n",
    "print('Точка из X, наиболее близкая к y в смысле евклидового расстояния: ', X[index_euc])\n",
    "print(' y = ', Y)"
   ]
  },
  {
   "cell_type": "markdown",
   "metadata": {},
   "source": [
    "**7.** Дана функция:\n",
    "\n",
    "$$\n",
    " \\begin{cases}\n",
    "    x^2 + 2x + 6, & x < 0  \\\\\n",
    "    x + 6, & 0 \\le x \\le 2 \\\\\n",
    "    x^2 + 4x - 4, & x \\ge 2\n",
    " \\end{cases}\n",
    "$$\n",
    "\n",
    "Постройте массив из её значений на  $-3 \\le x \\le 3$."
   ]
  },
  {
   "cell_type": "code",
   "execution_count": 127,
   "metadata": {},
   "outputs": [
    {
     "name": "stdout",
     "output_type": "stream",
     "text": [
      "[-3.         -2.66666667 -2.33333333 -2.         -1.66666667 -1.33333333\n",
      " -1.         -0.66666667 -0.33333333  0.          0.          0.22222222\n",
      "  0.44444444  0.66666667  0.88888889  1.11111111  1.33333333  1.55555556\n",
      "  1.77777778  2.          2.          2.11111111  2.22222222  2.33333333\n",
      "  2.44444444  2.55555556  2.66666667  2.77777778  2.88888889  3.        ]\n",
      "[ 9.          7.77777778  6.77777778  6.          5.44444444  5.11111111\n",
      "  5.          5.11111111  5.44444444  6.          6.          6.22222222\n",
      "  6.44444444  6.66666667  6.88888889  7.11111111  7.33333333  7.55555556\n",
      "  7.77777778  8.          8.          8.90123457  9.82716049 10.77777778\n",
      " 11.75308642 12.75308642 13.77777778 14.82716049 15.90123457 17.        ]\n"
     ]
    }
   ],
   "source": [
    "## your code\n",
    "x1 = np.linspace(-3, 0, 10)\n",
    "x2 = np.linspace(0, 2, 10)\n",
    "x3 = np.linspace(2, 3, 10)\n",
    "x = np.vstack((x1, x2, x3)).reshape(-1)\n",
    "\n",
    "y1 = np.power(x1, 2) + 2 * x1 + 6\n",
    "y2 = x2 + 6\n",
    "y3 = np.power(x3, 2) + 4 * x3 - 4\n",
    "\n",
    "y = np.vstack((y1, y2, y3)).reshape(-1)\n",
    "\n",
    "print(x)\n",
    "print(y)"
   ]
  },
  {
   "cell_type": "markdown",
   "metadata": {},
   "source": [
    "**8.** Из каждого элемента матрицы вычесть среднее арифметическое от всех элементов в соответствующей строке (после чего среднее значение каждой строки должно равняться нулю).\n",
    "\n",
    "Cм. [np.mean()](http://docs.scipy.org/doc/numpy/reference/generated/numpy.mean.html)."
   ]
  },
  {
   "cell_type": "code",
   "execution_count": 140,
   "metadata": {},
   "outputs": [
    {
     "data": {
      "text/plain": [
       "array([ 7.77156117e-17, -1.11022302e-17, -1.11022302e-16,  2.22044605e-17,\n",
       "        2.22044605e-17,  3.33066907e-17,  4.44089210e-17,  9.99200722e-17,\n",
       "       -2.22044605e-17, -2.22044605e-17])"
      ]
     },
     "execution_count": 140,
     "metadata": {},
     "output_type": "execute_result"
    }
   ],
   "source": [
    "n = 10\n",
    "X = np.random.random((n, n))\n",
    "\n",
    "## your code\n",
    "# np.ones_like(X) * X.mean(axis=0)\n",
    "\n",
    "X = X - np.ones((n, 1)) * X.mean(axis=0)\n",
    "X.mean(axis=0)"
   ]
  },
  {
   "cell_type": "markdown",
   "metadata": {},
   "source": [
    "**9.** Есть массив из 1000 чисел, полученных из генератора случайных чисел, имеющий нормальное распределение. Посчитайте выборочное среднее и выборочную дисперсию. "
   ]
  },
  {
   "cell_type": "code",
   "execution_count": 189,
   "metadata": {},
   "outputs": [
    {
     "data": {
      "text/plain": [
       "(4.974172975277297, 4.020592558129358)"
      ]
     },
     "execution_count": 189,
     "metadata": {},
     "output_type": "execute_result"
    }
   ],
   "source": [
    "X = np.random.normal(loc=5, scale=2., size=1000)\n",
    "\n",
    "X.mean(), X.var()"
   ]
  },
  {
   "cell_type": "markdown",
   "metadata": {},
   "source": [
    "**10.** Создать матрицу:\n",
    "\n",
    "$$\n",
    "\\begin{pmatrix}\n",
    "0 & 1 & 2 & 3 & 4 \\\\\n",
    "1 & 2 & 3 & 4 & 0 \\\\\n",
    "2 & 3 & 4 & 0 & 1 \\\\\n",
    "3 & 4 & 0 & 1 & 2 \\\\\n",
    "4 & 0 & 1 & 2 & 3\n",
    "\\end{pmatrix}\n",
    "$$"
   ]
  },
  {
   "cell_type": "code",
   "execution_count": 6,
   "metadata": {},
   "outputs": [
    {
     "data": {
      "text/plain": [
       "array([[0, 1, 2, 3, 4],\n",
       "       [1, 2, 3, 4, 0],\n",
       "       [2, 3, 4, 0, 1],\n",
       "       [3, 4, 0, 1, 2],\n",
       "       [4, 0, 1, 2, 3]])"
      ]
     },
     "execution_count": 6,
     "metadata": {},
     "output_type": "execute_result"
    }
   ],
   "source": [
    "X = np.array([np.arange(5)]*5)\n",
    "np.array(list(map(np.roll, X, np.arange(0, -5, -1))))"
   ]
  },
  {
   "cell_type": "markdown",
   "metadata": {},
   "source": [
    "**11.** Есть следующий алгоритм семплинирования, на вход функции подается вектор из целых положительных чисел и число семплов."
   ]
  },
  {
   "cell_type": "code",
   "execution_count": 109,
   "metadata": {},
   "outputs": [
    {
     "data": {
      "text/plain": [
       "[0, 3, 0, 0, 0]"
      ]
     },
     "execution_count": 109,
     "metadata": {},
     "output_type": "execute_result"
    }
   ],
   "source": [
    "def sample_1(x, c):\n",
    "    assert len(x) > 0\n",
    "    \n",
    "    s = np.sum(x)\n",
    "    res = []\n",
    "    for _ in range(c):\n",
    "        val = s * np.random.random()\n",
    "        cur, idx = 0, 0        \n",
    "        while cur + x[idx] <= val:\n",
    "            cur += x[idx]\n",
    "            idx += 1\n",
    "        res.append(idx)\n",
    "    return res\n",
    "\n",
    "            \n",
    "sample_1([50, 3, 1, 7, 20], 5)   "
   ]
  },
  {
   "cell_type": "markdown",
   "metadata": {},
   "source": [
    "Реализуйте данный алгоритм более оптимальным способом, без использования циклов."
   ]
  },
  {
   "cell_type": "code",
   "execution_count": 108,
   "metadata": {},
   "outputs": [],
   "source": [
    "## your code\n",
    "def sample_2(x, c):\n",
    "    assert len(x) > 0\n",
    "    \n",
    "    x = np.array(x).reshape(-1, 1)\n",
    "    \n",
    "    n = len(x)\n",
    "    s = np.sum(x)\n",
    "    \n",
    "    val = s * np.random.random((c, 1)) * np.ones((c, n)) # Генерируем матрицу, у которой в строках одинаковые элементы (\"ограничения\")\n",
    "    \n",
    "    m = np.tril(np.ones((n, n))) # Генирируем нижнюю треугольную матрицу\n",
    "    temp = (m @ x).T\n",
    "    return np.sum(temp < val, axis=1)\n",
    "\n",
    "np.random.seed(0)\n",
    "x = [50, 3, 1, 7, 20]\n",
    "c = 5\n",
    "# simple test\n",
    "assert (sample_1(x, c) - sample_2(x, c) < 10 ** (8)).all()\n",
    "\n",
    "# advanced test\n",
    "for i in range(1, 100):\n",
    "    np.random.seed(i)\n",
    "    x = np.random.randint(low=1, high=100, size=(i,))\n",
    "    c = np.random.randint(low=1, high=10)\n",
    "    assert (sample_1(x, c) - sample_2(x, c) < 10 ** (6)).all()"
   ]
  }
 ],
 "metadata": {
  "kernelspec": {
   "display_name": "Python 3",
   "language": "python",
   "name": "python3"
  },
  "language_info": {
   "codemirror_mode": {
    "name": "ipython",
    "version": 3
   },
   "file_extension": ".py",
   "mimetype": "text/x-python",
   "name": "python",
   "nbconvert_exporter": "python",
   "pygments_lexer": "ipython3",
   "version": "3.7.9"
  }
 },
 "nbformat": 4,
 "nbformat_minor": 4
}
