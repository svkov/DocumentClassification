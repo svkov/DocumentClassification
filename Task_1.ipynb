{
 "cells": [
  {
   "cell_type": "markdown",
   "metadata": {},
   "source": [
    "# Задание 1\n",
    "\n",
    "[Свертка списка](https://ru.wikipedia.org/wiki/%D0%A1%D0%B2%D1%91%D1%80%D1%82%D0%BA%D0%B0_%D1%81%D0%BF%D0%B8%D1%81%D0%BA%D0%B0) -  это обобщенная операция над списком, c помощью которой можно преобразовать список в единое значение. Например, рассмотрим реализации свертки слева и свертки справа (левоассоциативную свертку и правоассоциативную свертку):"
   ]
  },
  {
   "cell_type": "code",
   "execution_count": 1,
   "metadata": {},
   "outputs": [],
   "source": [
    "def foldl(f, x0, lst):\n",
    "    if not lst:\n",
    "        return x0\n",
    "    return foldl(f, f(x0, lst[0]), lst[1:])\n",
    "\n",
    "def foldr(f, x0, lst):\n",
    "    if not lst:\n",
    "        return x0\n",
    "    return f(lst[0], foldr(f, x0, lst[1:]))"
   ]
  },
  {
   "cell_type": "code",
   "execution_count": 2,
   "metadata": {},
   "outputs": [
    {
     "data": {
      "text/plain": [
       "6"
      ]
     },
     "execution_count": 2,
     "metadata": {},
     "output_type": "execute_result"
    }
   ],
   "source": [
    "#сумма\n",
    "foldl(lambda x, y: x + y, 0, [1, 2, 3])"
   ]
  },
  {
   "cell_type": "code",
   "execution_count": 3,
   "metadata": {},
   "outputs": [
    {
     "data": {
      "text/plain": [
       "'123'"
      ]
     },
     "execution_count": 3,
     "metadata": {},
     "output_type": "execute_result"
    }
   ],
   "source": [
    "#конкатенация\n",
    "foldl(lambda x, y: '{}{}'.format(x, y), '', [1, 2, 3])"
   ]
  },
  {
   "cell_type": "code",
   "execution_count": 4,
   "metadata": {},
   "outputs": [
    {
     "data": {
      "text/plain": [
       "(0.16666666666666666, 1.5)"
      ]
     },
     "execution_count": 4,
     "metadata": {},
     "output_type": "execute_result"
    }
   ],
   "source": [
    "f = lambda x, y: x / y\n",
    "foldl(f, 1, [1, 2, 3]), \\\n",
    "foldr(f, 1, [1, 2, 3])"
   ]
  },
  {
   "cell_type": "markdown",
   "metadata": {},
   "source": [
    "Задача: реализовать foldl через foldr и наоборот. Вместо многоточий нужно вставить выражения, которые бы привели к нужному результату."
   ]
  },
  {
   "cell_type": "code",
   "execution_count": 136,
   "metadata": {},
   "outputs": [],
   "source": [
    "def foldl2(f, x0, lst):\n",
    "    return foldr(lambda x, y: f(y, x), x0, lst[::-1])"
   ]
  },
  {
   "cell_type": "code",
   "execution_count": 160,
   "metadata": {},
   "outputs": [],
   "source": [
    "def foldr2(f, x0, lst):\n",
    "    return foldl(lambda x, y: f(y, x), x0,  lst[::-1])"
   ]
  },
  {
   "cell_type": "markdown",
   "metadata": {},
   "source": [
    "Тесты:"
   ]
  },
  {
   "cell_type": "code",
   "execution_count": 169,
   "metadata": {},
   "outputs": [],
   "source": [
    "from random import randint\n",
    "import sys\n",
    "\n",
    "for i in range(10000):\n",
    "    a = [randint(1, 10) for i in range(10)]\n",
    "\n",
    "    divide_function = lambda x, y: x / y\n",
    "    sum_function = lambda x, y: x + y\n",
    "    concatenate = lambda x, y: f'{x}{y}'\n",
    "\n",
    "    # Check foldl2 function\n",
    "    assert foldl2(divide_function, 1, a) - foldl(divide_function, 1, a) < sys.float_info.epsilon\n",
    "    assert foldl2(sum_function, 0, a) - foldl(sum_function, 0, a) < sys.float_info.epsilon\n",
    "    assert foldl2(concatenate, '', a) == foldl(concatenate, '', a)\n",
    "    \n",
    "    # Check foldr2 function\n",
    "    assert foldr2(divide_function, 1, a) - foldr(divide_function, 1, a) < sys.float_info.epsilon\n",
    "    assert foldr2(sum_function, 0, a) - foldr(sum_function, 0, a) < sys.float_info.epsilon\n",
    "    assert foldr2(concatenate, '', a) == foldr(concatenate, '', a)"
   ]
  },
  {
   "cell_type": "markdown",
   "metadata": {},
   "source": [
    "# Задание 2\n",
    "\n",
    "нужно написать функцию, которая принимает две строки и проверяет, входит ли хотя бы одна перестановка второй строки в первую. Например:\n",
    "\n",
    "> a = 'abcrotm'\n",
    "> \n",
    "> b = 'tro'\n",
    "\n",
    "функция def check_inv(a, b) вернет True, так как 'rot' содержится в 'abcrotm'. Нужно подумать как можно более оптимальный алгоритм и оценить его сложность. "
   ]
  },
  {
   "cell_type": "markdown",
   "metadata": {},
   "source": [
    "## Наивная реализация\n",
    "\n",
    "Генерируем все перестановки строки b и проверяем, входит ли хотя бы одна из них в строку a.\n",
    "\n",
    "Пусть, n - длина строки a, m - длина строки b, тогда сложность алгоритма $O(n * m!)))$"
   ]
  },
  {
   "cell_type": "code",
   "execution_count": 183,
   "metadata": {},
   "outputs": [],
   "source": [
    "from itertools import permutations\n",
    "from functools import reduce\n",
    "import operator\n",
    "\n",
    "def check_inv(a, b):\n",
    "    # Get all permutations and make strings from tuples\n",
    "    perm = list(map(lambda x: reduce(operator.add, x), permutations(b)))\n",
    "    for p in perm:\n",
    "        if p in a:\n",
    "            return True\n",
    "    return False"
   ]
  },
  {
   "cell_type": "code",
   "execution_count": 188,
   "metadata": {},
   "outputs": [
    {
     "data": {
      "text/plain": [
       "True"
      ]
     },
     "execution_count": 188,
     "metadata": {},
     "output_type": "execute_result"
    }
   ],
   "source": [
    "a = 'abcrotm'\n",
    "b = 'tro'\n",
    "check_inv(a, b)"
   ]
  },
  {
   "cell_type": "markdown",
   "metadata": {},
   "source": [
    "# Задание 3\n",
    "\n",
    "Реализовать бинарное дерево (класс Tree), в нём методы __repr__, __str__, __iter__ (итерация только по листьям)."
   ]
  },
  {
   "cell_type": "code",
   "execution_count": 75,
   "metadata": {},
   "outputs": [
    {
     "name": "stdout",
     "output_type": "stream",
     "text": [
      "True\n",
      "3 4 2\n",
      "Leafs are: 3 4 2\n"
     ]
    }
   ],
   "source": [
    "class Tree:\n",
    "    def __init__(self, value=None, left=None, right=None):\n",
    "        self.left = left\n",
    "        self.right = right\n",
    "        self.value = value\n",
    "        \n",
    "    @property\n",
    "    def is_leaf(self):\n",
    "        return self.left is None and self.right is None\n",
    "        \n",
    "    def __list__(self):\n",
    "        left_list = []\n",
    "        right_list = []\n",
    "        \n",
    "        if self.left:\n",
    "            left_list = list(self.left)\n",
    "        if self.right:\n",
    "            right_list = list(self.right)\n",
    "        if self.is_leaf:\n",
    "            return [self.value]\n",
    "        return left_list + right_list\n",
    "        \n",
    "    def __iter__(self):\n",
    "        return iter(self.__list__())\n",
    "    \n",
    "    def __str__(self):\n",
    "        if self.is_leaf:\n",
    "            return str(self.value)\n",
    "        left_str = self.left.__str__() or ''\n",
    "        right_str = self.right.__str__() or ''\n",
    "        return left_str + ' ' + right_str\n",
    "    \n",
    "    def __repr__(self):\n",
    "        return 'Leafs are: ' + ' '.join(list(map(str, self.__list__())))\n",
    "    \n",
    "tree = Tree(0, Tree(1, Tree(3), Tree(4)),                             \n",
    "               Tree(2))\n",
    "\n",
    "print(list(tree) == [3, 4, 2])\n",
    "print(tree)\n",
    "print(repr(tree))"
   ]
  },
  {
   "cell_type": "markdown",
   "metadata": {},
   "source": [
    "# Задание 4\n",
    "\n",
    "Реализовать простейший калькулятор математических выражений:\n",
    "- только целые числа\n",
    "- **+**, **\\-**, **\\***, **\\**\n",
    "- скобки\n",
    "\n",
    "**Можно использовать регулярные выражения**"
   ]
  },
  {
   "cell_type": "markdown",
   "metadata": {},
   "source": [
    "Также добавил:\n",
    "\n",
    "- вещественные числа\n",
    "- функции одного аргумента (квадратный корень, синус, косинус)"
   ]
  },
  {
   "cell_type": "code",
   "execution_count": 74,
   "metadata": {},
   "outputs": [
    {
     "name": "stdout",
     "output_type": "stream",
     "text": [
      "Zero division check is OK\n"
     ]
    }
   ],
   "source": [
    "from math import sqrt, sin, cos\n",
    "\n",
    "OPERATORS = {'+': (1, lambda x, y: x + y), '-': (1, lambda x, y: x - y),\n",
    "             '*': (2, lambda x, y: x * y), '/': (2, lambda x, y: x / y),\n",
    "            'sin': (3, lambda x: sin(x)), 'cos': (3, lambda x: cos(x)),\n",
    "             'sqrt': (3, lambda x: sqrt(x))}\n",
    "\n",
    "FUNCTIONS = {'sin': lambda x: sin(x), 'cos': lambda x: cos(x),\n",
    "             'sqrt': lambda x: sqrt(x)}\n",
    "\n",
    "def get_tokens(formula_string):\n",
    "    number = ''\n",
    "    func = ''\n",
    "    for s in formula_string:\n",
    "        if s in 'sincossqrt':\n",
    "            func += s\n",
    "        elif func:\n",
    "            yield func\n",
    "            func = ''\n",
    "        if s.isdigit() or s == '.':\n",
    "            number += s  \n",
    "        elif number: \n",
    "            yield float(number) \n",
    "            number = ''\n",
    "        if s in OPERATORS or s in \"()\":\n",
    "            yield s \n",
    "        \n",
    "    if number:\n",
    "        yield float(number) \n",
    "\n",
    "\n",
    "def shunting_yard(parsed_formula):\n",
    "    stack = []\n",
    "    for token in parsed_formula:\n",
    "        if token in FUNCTIONS:\n",
    "            stack.append(token)\n",
    "        elif token in OPERATORS: \n",
    "            while stack and stack[-1] != \"(\" and OPERATORS[token][0] <= OPERATORS[stack[-1]][0]:\n",
    "                yield stack.pop()\n",
    "            stack.append(token)\n",
    "        elif token == \")\":\n",
    "            while stack:\n",
    "                x = stack.pop()\n",
    "                if x == \"(\":\n",
    "                    break\n",
    "                yield x\n",
    "        elif token == \"(\":\n",
    "            stack.append(token)\n",
    "        else:\n",
    "            yield token\n",
    "    while stack:\n",
    "        yield stack.pop()\n",
    "        \n",
    "def calculate(rpn):\n",
    "    # rpn - reverse polish notation\n",
    "    stack = []\n",
    "    for token in rpn:\n",
    "        if isinstance(token, float):\n",
    "            stack.append(token)\n",
    "        elif token in FUNCTIONS:\n",
    "            x = stack.pop()\n",
    "            stack.append(FUNCTIONS[token](x))\n",
    "        elif token in OPERATORS:\n",
    "            y = stack.pop()\n",
    "            x = stack.pop()\n",
    "            try:\n",
    "                stack.append(OPERATORS[token][1](x, y))\n",
    "            except ZeroDivisionError:\n",
    "                raise ZeroDivisionError('Деление на 0')\n",
    "    return stack[0]\n",
    "\n",
    "def calc(expr):\n",
    "    return calculate(shunting_yard(get_tokens(expr)))\n",
    "\n",
    "# default tests\n",
    "ex1 = '2 *(15 - 3 * 4) - 2'\n",
    "ex2 = '(5 *10 - 30 + 2) /2 - 1'\n",
    "ex3 = '(10 + (20 + (30 + (1*0)) ) )'\n",
    "\n",
    "# sin/cos/sqrt tests\n",
    "ex4 = 'sqrt(1 + sqrt(7 + 1 * 2) * 5)'\n",
    "ex5 = 'sin(sin(sin(cos(sqrt(2)))))'\n",
    "\n",
    "# float tests\n",
    "ex6 = '1.2 + 5.23478329 - sqrt(2.432890043289)'\n",
    "\n",
    "assert calc(ex1) == eval(ex1)\n",
    "assert calc(ex2) == eval(ex2)\n",
    "assert calc(ex3) == eval(ex3)\n",
    "assert calc(ex4) == eval(ex4)\n",
    "assert calc(ex5) == eval(ex5)\n",
    "assert calc(ex6) == eval(ex6)\n",
    "\n",
    "try:\n",
    "    calc('1 / 0')\n",
    "    print('Not ok')\n",
    "except:\n",
    "    print('Zero division check is OK')"
   ]
  }
 ],
 "metadata": {
  "kernelspec": {
   "display_name": "Python 3",
   "language": "python",
   "name": "python3"
  },
  "language_info": {
   "codemirror_mode": {
    "name": "ipython",
    "version": 3
   },
   "file_extension": ".py",
   "mimetype": "text/x-python",
   "name": "python",
   "nbconvert_exporter": "python",
   "pygments_lexer": "ipython3",
   "version": "3.7.4"
  }
 },
 "nbformat": 4,
 "nbformat_minor": 2
}
